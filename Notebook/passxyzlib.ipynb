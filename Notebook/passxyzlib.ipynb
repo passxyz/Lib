{
 "cells": [
  {
   "cell_type": "code",
   "execution_count": null,
   "metadata": {},
   "outputs": [
    {
     "data": {
      "text/html": "<table><thead><tr><th>Major</th><th>Minor</th><th>Build</th><th>Revision</th><th>MajorRevision</th><th>MinorRevision</th></tr></thead><tbody><tr><td><div class=\"dni-plaintext\">0</div></td><td><div class=\"dni-plaintext\">0</div></td><td><div class=\"dni-plaintext\">0</div></td><td><div class=\"dni-plaintext\">0</div></td><td><div class=\"dni-plaintext\">0</div></td><td><div class=\"dni-plaintext\">0</div></td></tr></tbody></table>"
     },
     "output_type": "unknown"
    }
   ],
   "source": [
    "using System;\r\n",
    "using System.Reflection;\r\n",
    "\r\n",
    "Assembly.GetExecutingAssembly().FullName"
   ]
  },
  {
   "cell_type": "code",
   "execution_count": 1,
   "metadata": {
    "dotnet_interactive": {
     "language": "csharp"
    }
   },
   "outputs": [
    {
     "data": {
      "text/plain": "There are 4 items.\r\n"
     },
     "output_type": "unknown"
    },
    {
     "data": {
      "text/plain": "item = home\r\n"
     },
     "output_type": "unknown"
    },
    {
     "data": {
      "text/plain": "item = data\r\n"
     },
     "output_type": "unknown"
    },
    {
     "data": {
      "text/plain": "last = src\r\n"
     },
     "output_type": "unknown"
    },
    {
     "data": {
      "text/plain": "False, src\r\n"
     },
     "output_type": "unknown"
    }
   ],
   "source": [
    "using System;\r\n",
    "using System.Diagnostics;\r\n",
    "\r\n",
    "string testPath = \"/home/data/test/src\";\r\n",
    "\r\n",
    "\r\n",
    "string FindLastOne(string path = \"/\") \r\n",
    "{\r\n",
    "    if (path == null) { return null; }\r\n",
    "    string[] paths = path.Split('/');\r\n",
    "    if(paths.Length > 0) \r\n",
    "    {\r\n",
    "        var i = 0;\r\n",
    "        var item = \"\";\r\n",
    "        Console.WriteLine($\"There are {paths.Length - 1} items.\");\r\n",
    "        for (i = 0; i < paths.Length - 1; i++) \r\n",
    "        { \r\n",
    "            item = paths[i];\r\n",
    "            if(!String.IsNullOrEmpty(item))\r\n",
    "            {\r\n",
    "                Console.WriteLine($\"item = {item}\");\r\n",
    "            }\r\n",
    "        }\r\n",
    "        Console.WriteLine($\"last = {paths[paths.Length - 1]}\");\r\n",
    "    }\r\n",
    "    return paths[paths.Count() - 1];\r\n",
    "}\r\n",
    "\r\n",
    "var last = FindLastOne(testPath);\r\n",
    "// string path = \"/home/data/test/src\";\r\n",
    "\r\n",
    "/*\r\n",
    "foreach (var sub in subs)\r\n",
    "{\r\n",
    "    Console.WriteLine($\"Substring: {sub}\");\r\n",
    "}*/\r\n",
    "\r\n",
    "Console.WriteLine($\"{testPath.EndsWith(\"/\")}, {last}\");"
   ]
  },
  {
   "cell_type": "code",
   "execution_count": 1,
   "metadata": {},
   "outputs": [
    {
     "data": {
      "text/plain": "Key=1\r\n"
     },
     "output_type": "unknown"
    }
   ],
   "source": [
    "public class NamedContainer<T>\r\n",
    "{\r\n",
    "    public NamedContainer(T item, string name)\r\n",
    "    {\r\n",
    "        Item = item;\r\n",
    "        Name = name;\r\n",
    "    }\r\n",
    "\r\n",
    "    public T Item { get; }\r\n",
    "    public string Name { get; }\r\n",
    "}\r\n",
    "\r\n",
    "var nc = new NamedContainer<int>(1, \"Key\");\r\n",
    "Console.WriteLine($\"Key={nc.Item}\");"
   ]
  }
 ],
 "metadata": {
  "kernelspec": {
   "display_name": ".NET (C#)",
   "language": "C#",
   "metadata": {
    "interpreter": {
     "hash": "82a4497aa44a440fbfb1d441f8bbfbe94f1ccaaf7adaa9528d6a47a3b7658ad3"
    }
   },
   "name": ".net-csharp"
  },
  "language_info": {
   "name": "dotnet-interactive.csharp",
   "version": "3.8.5-final"
  },
  "orig_nbformat": 2
 },
 "nbformat": 4,
 "nbformat_minor": 2
}